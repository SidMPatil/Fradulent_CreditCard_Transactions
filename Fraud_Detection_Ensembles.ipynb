{
 "cells": [
  {
   "cell_type": "code",
   "execution_count": 40,
   "metadata": {},
   "outputs": [],
   "source": [
    "import pandas as pd\n",
    "import numpy as np"
   ]
  },
  {
   "cell_type": "code",
   "execution_count": 41,
   "metadata": {},
   "outputs": [],
   "source": [
    "data = pd.read_csv('C:\\\\Users\\\\Siddharth\\\\Desktop\\\\Projects\\\\Credit card fraud detection\\\\creditcard.csv')\n",
    "#data.head(5)"
   ]
  },
  {
   "cell_type": "code",
   "execution_count": 48,
   "metadata": {},
   "outputs": [
    {
     "name": "stdout",
     "output_type": "stream",
     "text": [
      "Model accuracy: 1.00\n",
      "Average precision-recall score: 0.74\n"
     ]
    },
    {
     "data": {
      "text/plain": [
       "array([[-3.72816510e-05,  2.00796727e-01, -1.40316503e-01,\n",
       "        -4.46267516e-01,  2.13361609e-01,  8.71622334e-02,\n",
       "        -4.18933292e-02,  2.29982475e-01, -2.25807954e-01,\n",
       "        -2.65172699e-01, -2.60900893e-01, -1.48595897e-01,\n",
       "        -6.92067592e-02, -2.03657023e-01, -5.24849461e-01,\n",
       "        -2.98910750e-01, -2.12205086e-01, -2.75114841e-01,\n",
       "         2.86411773e-02,  5.28917986e-02,  1.25352192e-02,\n",
       "         2.36760302e-01,  2.64134920e-01,  2.11877352e-03,\n",
       "         2.31516907e-03, -2.59286073e-01,  6.64446110e-02,\n",
       "        -3.37736598e-02,  7.30405312e-03, -1.27579010e-03,\n",
       "         5.65247403e-01]])"
      ]
     },
     "execution_count": 48,
     "metadata": {},
     "output_type": "execute_result"
    },
    {
     "data": {
      "image/png": "[encoded data removed]",
      "text/plain": [
       "<matplotlib.figure.Figure at 0x1ec9ef1a2e8>"
      ]
     },
     "metadata": {},
     "output_type": "display_data"
    }
   ],
   "source": [
    "### Train/test split - Logistic Regression model - Optimization through Cross-Validation - Model Evaluation ###\n",
    "\n",
    "# Train/test split #\n",
    "from sklearn.model_selection import train_test_split\n",
    "y = data['Class']\n",
    "X_train, X_test, y_train, y_test = train_test_split(data, y, test_size = 0.2)\n",
    "\n",
    "# Logistic Regreession - Optimization through Cross-Validation #\n",
    "from sklearn.linear_model import LogisticRegressionCV\n",
    "LR = LogisticRegressionCV(cv = 15, random_state = 0).fit(X_train,y_train)\n",
    "y_pred = LR.predict(X_test) #array of predicted classes\n",
    "y_score = LR.decision_function(X_test)\n",
    "\n",
    "# Confusion Matrix #\n",
    "from sklearn.metrics import confusion_matrix\n",
    "Confusion_Matrix = confusion_matrix(y_test, y_pred)\n",
    "\n",
    "# Model Accuracy #\n",
    "from sklearn.metrics import accuracy_score\n",
    "model_accuracy = accuracy_score(y_test, y_pred)\n",
    "print('Model accuracy: {0:0.2f}'.format(model_accuracy))\n",
    "\n",
    "# Precision-Recall score #\n",
    "from sklearn.metrics import average_precision_score\n",
    "average_precision = average_precision_score(y_test, y_score)\n",
    "print('Average precision-recall score: {0:0.2f}'.format(average_precision))\n",
    "\n",
    "# Precision_Recall curve #\n",
    "from sklearn.metrics import precision_recall_curve\n",
    "import matplotlib.pyplot as plt\n",
    "from sklearn.utils.fixes import signature\n",
    "precision, recall, _ = precision_recall_curve(y_test, y_score)\n",
    "# In matplotlib < 1.5, plt.fill_between does not have a 'step' argument\n",
    "step_kwargs = ({'step': 'post'}\n",
    "               if 'step' in signature(plt.fill_between).parameters\n",
    "               else {})\n",
    "plt.step(recall, precision, color='b', alpha=0.2,\n",
    "         where='post')\n",
    "plt.fill_between(recall, precision, alpha=0.2, color='b', **step_kwargs)\n",
    "\n",
    "plt.xlabel('Recall')\n",
    "plt.ylabel('Precision')\n",
    "plt.ylim([0.0, 1.05])\n",
    "plt.xlim([0.0, 1.0])\n",
    "plt.title('2-class Precision-Recall curve: AP={0:0.2f}'.format(\n",
    "          average_precision))\n",
    "\n",
    "Confusion_Matrix\n",
    "\n",
    "LR.coef_"
   ]
  },
  {
   "cell_type": "code",
   "execution_count": 50,
   "metadata": {},
   "outputs": [
    {
     "name": "stdout",
     "output_type": "stream",
     "text": [
      "Model accuracy: 1.00\n",
      "Average precision-recall score: 0.93\n"
     ]
    },
    {
     "ename": "AttributeError",
     "evalue": "'BaggingClassifier' object has no attribute 'feature_importances_'",
     "output_type": "error",
     "traceback": [
      "\u001b[1;31m---------------------------------------------------------------------------\u001b[0m",
      "\u001b[1;31mAttributeError\u001b[0m                            Traceback (most recent call last)",
      "\u001b[1;32m<ipython-input-50-809812d586f5>\u001b[0m in \u001b[0;36m<module>\u001b[1;34m()\u001b[0m\n\u001b[0;32m     48\u001b[0m \u001b[0mConfusion_Matrix\u001b[0m\u001b[1;33m\u001b[0m\u001b[0m\n\u001b[0;32m     49\u001b[0m \u001b[1;33m\u001b[0m\u001b[0m\n\u001b[1;32m---> 50\u001b[1;33m \u001b[0mbagging\u001b[0m\u001b[1;33m.\u001b[0m\u001b[0mfeature_importances_\u001b[0m\u001b[1;33m\u001b[0m\u001b[0m\n\u001b[0m",
      "\u001b[1;31mAttributeError\u001b[0m: 'BaggingClassifier' object has no attribute 'feature_importances_'"
     ]
    },
    {
     "data": {
      "image/png": "[encoded data removed]",
      "text/plain": [
       "<matplotlib.figure.Figure at 0x1ec9ee84e10>"
      ]
     },
     "metadata": {},
     "output_type": "display_data"
    }
   ],
   "source": [
    "### Ensemble techniques (Random Forest / AdaBoost / Gradient Boosting) - Model Evaluation ###\n",
    "\n",
    "# Train/test split #\n",
    "from sklearn.model_selection import train_test_split\n",
    "y = data['Class']\n",
    "X_train, X_test, y_train, y_test = train_test_split(data, y, test_size = 0.2)\n",
    "\n",
    "# Bagging with Logistic Regression as the base estimator #\n",
    "from sklearn.linear_model import LogisticRegression\n",
    "from sklearn.ensemble import BaggingClassifier\n",
    "bagging = BaggingClassifier(LogisticRegression(), max_samples=0.5, max_features=0.5, bootstrap=True, bootstrap_features=True).fit(X_train,y_train)\n",
    "y_pred = bagging.predict(X_test)\n",
    "y_score = bagging.decision_function(X_test)\n",
    "\n",
    "# Confusion Matrix #\n",
    "Confusion_Matrix = confusion_matrix(y_test, y_pred)\n",
    "\n",
    "# Model Accuracy #\n",
    "from sklearn.metrics import accuracy_score\n",
    "model_accuracy = accuracy_score(y_test, y_pred)\n",
    "print('Model accuracy: {0:0.2f}'.format(model_accuracy))\n",
    "\n",
    "# Precision-Recall score #\n",
    "from sklearn.metrics import average_precision_score\n",
    "average_precision = average_precision_score(y_test, y_score)\n",
    "print('Average precision-recall score: {0:0.2f}'.format(average_precision))\n",
    "\n",
    "# Precision_Recall curve #\n",
    "from sklearn.metrics import precision_recall_curve\n",
    "import matplotlib.pyplot as plt\n",
    "from sklearn.utils.fixes import signature\n",
    "precision, recall, _ = precision_recall_curve(y_test, y_score)\n",
    "# In matplotlib < 1.5, plt.fill_between does not have a 'step' argument\n",
    "step_kwargs = ({'step': 'post'}\n",
    "               if 'step' in signature(plt.fill_between).parameters\n",
    "               else {})\n",
    "plt.step(recall, precision, color='b', alpha=0.2,\n",
    "         where='post')\n",
    "plt.fill_between(recall, precision, alpha=0.2, color='b', **step_kwargs)\n",
    "\n",
    "plt.xlabel('Recall')\n",
    "plt.ylabel('Precision')\n",
    "plt.ylim([0.0, 1.05])\n",
    "plt.xlim([0.0, 1.0])\n",
    "plt.title('2-class Precision-Recall curve: AP={0:0.2f}'.format(\n",
    "          average_precision))\n",
    "\n",
    "Confusion_Matrix"
   ]
  },
  {
   "cell_type": "code",
   "execution_count": 51,
   "metadata": {},
   "outputs": [
    {
     "name": "stdout",
     "output_type": "stream",
     "text": [
      "Model accuracy: 1.00\n"
     ]
    },
    {
     "data": {
      "text/plain": [
       "array([0.00744124, 0.00673475, 0.00774963, 0.00134501, 0.03751349,\n",
       "       0.00303587, 0.0245761 , 0.00871899, 0.00077729, 0.04549541,\n",
       "       0.14212846, 0.0136431 , 0.0317604 , 0.00231076, 0.08576476,\n",
       "       0.00048684, 0.07658392, 0.10405151, 0.03448349, 0.00361365,\n",
       "       0.01254307, 0.01398205, 0.00558305, 0.00177043, 0.00214886,\n",
       "       0.00289201, 0.00816041, 0.0068068 , 0.00351625, 0.00156573,\n",
       "       0.30281666])"
      ]
     },
     "execution_count": 51,
     "metadata": {},
     "output_type": "execute_result"
    }
   ],
   "source": [
    "# Train/test split #\n",
    "from sklearn.model_selection import train_test_split\n",
    "y = data['Class']\n",
    "X_train, X_test, y_train, y_test = train_test_split(data, y, test_size = 0.2)\n",
    "\n",
    "# Random Forest Classifier # \n",
    "from sklearn.ensemble import RandomForestClassifier\n",
    "RF = RandomForestClassifier(n_estimators = 10).fit(X_train, y_train)\n",
    "y_pred = RF.predict(X_test)\n",
    "#y_score = RF.decision_function(X_test)\n",
    "\n",
    "# Confusion Matrix #\n",
    "Confusion_Matrix = confusion_matrix(y_test, y_pred)\n",
    "\n",
    "# Model Accuracy #\n",
    "from sklearn.metrics import accuracy_score\n",
    "model_accuracy = accuracy_score(y_test, y_pred)\n",
    "print('Model accuracy: {0:0.2f}'.format(model_accuracy))\n",
    "\n",
    "RF.feature_importances_"
   ]
  },
  {
   "cell_type": "code",
   "execution_count": 52,
   "metadata": {},
   "outputs": [
    {
     "name": "stdout",
     "output_type": "stream",
     "text": [
      "Model accuracy: 1.00\n",
      "Average precision-recall score: 1.00\n"
     ]
    },
    {
     "data": {
      "text/plain": [
       "array([0., 0., 0., 0., 0., 0., 0., 0., 0., 0., 0., 0., 0., 0., 0., 0., 0.,\n",
       "       0., 0., 0., 0., 0., 0., 0., 0., 0., 0., 0., 0., 0., 1.])"
      ]
     },
     "execution_count": 52,
     "metadata": {},
     "output_type": "execute_result"
    },
    {
     "data": {
      "image/png": "[encoded data removed]",
      "text/plain": [
       "<matplotlib.figure.Figure at 0x1eca2aa82e8>"
      ]
     },
     "metadata": {},
     "output_type": "display_data"
    }
   ],
   "source": [
    "# Train/test split #\n",
    "from sklearn.model_selection import train_test_split\n",
    "y = data['Class']\n",
    "X_train, X_test, y_train, y_test = train_test_split(data, y, test_size = 0.2)\n",
    "\n",
    "# AdaBoost #\n",
    "from sklearn.model_selection import cross_val_score\n",
    "from sklearn.ensemble import AdaBoostClassifier\n",
    "AdB = AdaBoostClassifier(n_estimators = 100).fit(X_train, y_train)\n",
    "#scores = cross_val_score(AdB, X_train, y_train, cv=5)\n",
    "y_pred = AdB.predict(X_test)\n",
    "y_score = AdB.decision_function(X_test)\n",
    "\n",
    "# Confusion Matrix #\n",
    "Confusion_Matrix = confusion_matrix(y_test, y_pred)\n",
    "\n",
    "# Model Accuracy #\n",
    "from sklearn.metrics import accuracy_score\n",
    "model_accuracy = accuracy_score(y_test, y_pred)\n",
    "print('Model accuracy: {0:0.2f}'.format(model_accuracy))\n",
    "\n",
    "# Precision-Recall score #\n",
    "from sklearn.metrics import average_precision_score\n",
    "average_precision = average_precision_score(y_test, y_score)\n",
    "print('Average precision-recall score: {0:0.2f}'.format(average_precision))\n",
    "\n",
    "# Precision_Recall curve #\n",
    "from sklearn.metrics import precision_recall_curve\n",
    "import matplotlib.pyplot as plt\n",
    "from sklearn.utils.fixes import signature\n",
    "precision, recall, _ = precision_recall_curve(y_test, y_score)\n",
    "# In matplotlib < 1.5, plt.fill_between does not have a 'step' argument\n",
    "step_kwargs = ({'step': 'post'}\n",
    "               if 'step' in signature(plt.fill_between).parameters\n",
    "               else {})\n",
    "plt.step(recall, precision, color='b', alpha=0.2,\n",
    "         where='post')\n",
    "plt.fill_between(recall, precision, alpha=0.2, color='b', **step_kwargs)\n",
    "\n",
    "plt.xlabel('Recall')\n",
    "plt.ylabel('Precision')\n",
    "plt.ylim([0.0, 1.05])\n",
    "plt.xlim([0.0, 1.0])\n",
    "plt.title('2-class Precision-Recall curve: AP={0:0.2f}'.format(\n",
    "          average_precision))\n",
    "\n",
    "Confusion_Matrix\n",
    "\n",
    "AdB.feature_importances_"
   ]
  },
  {
   "cell_type": "code",
   "execution_count": 53,
   "metadata": {},
   "outputs": [
    {
     "name": "stdout",
     "output_type": "stream",
     "text": [
      "Model accuracy: 1.00\n",
      "Average precision-recall score: 1.00\n"
     ]
    },
    {
     "data": {
      "text/plain": [
       "array([0.  , 0.  , 0.  , 0.  , 0.  , 0.  , 0.  , 0.  , 0.  , 0.  , 0.  ,\n",
       "       0.  , 0.  , 0.  , 0.  , 0.  , 0.  , 0.  , 0.  , 0.  , 0.  , 0.  ,\n",
       "       0.  , 0.  , 0.  , 0.  , 0.  , 0.  , 0.  , 0.  , 0.01])"
      ]
     },
     "execution_count": 53,
     "metadata": {},
     "output_type": "execute_result"
    },
    {
     "data": {
      "image/png": "[encoded data removed]",
      "text/plain": [
       "<matplotlib.figure.Figure at 0x1eca2edfba8>"
      ]
     },
     "metadata": {},
     "output_type": "display_data"
    }
   ],
   "source": [
    "# Train/test split #\n",
    "from sklearn.model_selection import train_test_split\n",
    "y = data['Class']\n",
    "X_train, X_test, y_train, y_test = train_test_split(data, y, test_size = 0.2)\n",
    "\n",
    "## Gradient Boosting ##\n",
    "from sklearn.ensemble import GradientBoostingClassifier\n",
    "clf = GradientBoostingClassifier(loss = 'deviance', n_estimators = 100, learning_rate = 0.1, \n",
    "                                 max_depth = 10, random_state = 1).fit(X_train,y_train)\n",
    "y_pred = clf.predict(X_test)\n",
    "y_score = clf.decision_function(X_test)\n",
    "\n",
    "# Confusion Matrix #\n",
    "Confusion_Matrix = confusion_matrix(y_test, y_pred)\n",
    "\n",
    "# Model Accuracy #\n",
    "from sklearn.metrics import accuracy_score\n",
    "model_accuracy = accuracy_score(y_test, y_pred)\n",
    "print('Model accuracy: {0:0.2f}'.format(model_accuracy))\n",
    "\n",
    "# Precision-Recall score #\n",
    "from sklearn.metrics import average_precision_score\n",
    "average_precision = average_precision_score(y_test, y_score)\n",
    "print('Average precision-recall score: {0:0.2f}'.format(average_precision))\n",
    "\n",
    "# Precision_Recall curve #\n",
    "from sklearn.metrics import precision_recall_curve\n",
    "import matplotlib.pyplot as plt\n",
    "from sklearn.utils.fixes import signature\n",
    "precision, recall, _ = precision_recall_curve(y_test, y_score)\n",
    "# In matplotlib < 1.5, plt.fill_between does not have a 'step' argument\n",
    "step_kwargs = ({'step': 'post'}\n",
    "               if 'step' in signature(plt.fill_between).parameters\n",
    "               else {})\n",
    "plt.step(recall, precision, color='b', alpha=0.2,\n",
    "         where='post')\n",
    "plt.fill_between(recall, precision, alpha=0.2, color='b', **step_kwargs)\n",
    "\n",
    "plt.xlabel('Recall')\n",
    "plt.ylabel('Precision')\n",
    "plt.ylim([0.0, 1.05])\n",
    "plt.xlim([0.0, 1.0])\n",
    "plt.title('2-class Precision-Recall curve: AP={0:0.2f}'.format(\n",
    "          average_precision))\n",
    "\n",
    "Confusion_Matrix\n",
    "\n",
    "clf.feature_importances_"
   ]
  }
 ],
 "metadata": {
  "kernelspec": {
   "display_name": "Python 3",
   "language": "python",
   "name": "python3"
  },
  "language_info": {
   "codemirror_mode": {
    "name": "ipython",
    "version": 3
   },
   "file_extension": ".py",
   "mimetype": "text/x-python",
   "name": "python",
   "nbconvert_exporter": "python",
   "pygments_lexer": "ipython3",
   "version": "3.6.4"
  }
 },
 "nbformat": 4,
 "nbformat_minor": 2
}
