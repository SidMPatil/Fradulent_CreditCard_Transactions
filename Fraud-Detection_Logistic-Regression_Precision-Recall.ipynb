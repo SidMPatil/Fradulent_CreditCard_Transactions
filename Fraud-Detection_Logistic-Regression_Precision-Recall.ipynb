{
 "cells": [
  {
   "cell_type": "code",
   "execution_count": 1,
   "metadata": {},
   "outputs": [],
   "source": [
    "import pandas as pd\n",
    "import numpy as np"
   ]
  },
  {
   "cell_type": "code",
   "execution_count": 80,
   "metadata": {},
   "outputs": [],
   "source": [
    "data = pd.read_csv('C:\\\\Users\\\\Siddharth\\\\Desktop\\\\Projects\\\\Credit card fraud detection\\\\creditcard.csv')\n",
    "#data.head(5)"
   ]
  },
  {
   "cell_type": "markdown",
   "metadata": {},
   "source": [
    "Train-test split ; Min-max scaling"
   ]
  },
  {
   "cell_type": "code",
   "execution_count": 88,
   "metadata": {},
   "outputs": [],
   "source": [
    "# Train-test split #\n",
    "from sklearn.model_selection import train_test_split\n",
    "y = data['Class']\n",
    "X_train, X_test, y_train, y_test = train_test_split(data, y, test_size = 0.2)\n",
    "\n",
    "# Scaling the training data set\n",
    "#X_train -= X_train.min()  # equivalent to df = df - df.min()\n",
    "#X_train /= X_train.max()  # equivalent to df = df / df.max()\n",
    "#X_train['Class'] = X_train['Class'].astype(int)\n",
    "#X_train.head(5)\n",
    "\n",
    "# Scaling the test data set\n",
    "#X_test -= X_test.min()  # equivalent to df = df - df.min()\n",
    "#X_test /= X_test.max()  # equivalent to df = df / df.max()\n",
    "#X_test['Class'] = X_test['Class'].astype(int)\n",
    "#X_test.head(5)"
   ]
  },
  {
   "cell_type": "markdown",
   "metadata": {},
   "source": [
    "Building a base model using Logistic Regression; Evaluting it using Accuracy and Precision-Recall score"
   ]
  },
  {
   "cell_type": "code",
   "execution_count": 93,
   "metadata": {},
   "outputs": [
    {
     "name": "stdout",
     "output_type": "stream",
     "text": [
      "Model accuracy: 99.92%\n",
      "Average precision-recall score: 0.67\n"
     ]
    },
    {
     "data": {
      "text/plain": [
       "Text(0.5,1,'2-class Precision-Recall curve: AP=0.67')"
      ]
     },
     "execution_count": 93,
     "metadata": {},
     "output_type": "execute_result"
    },
    {
     "data": {
      "image/png": "[encoded data removed]",
      "text/plain": [
       "<matplotlib.figure.Figure at 0x2031e6b4b00>"
      ]
     },
     "metadata": {},
     "output_type": "display_data"
    }
   ],
   "source": [
    "from sklearn.linear_model import LogisticRegression\n",
    "blr = LogisticRegression(penalty='l2',solver = 'lbfgs', multi_class = 'ovr').fit(X_train, y_train)\n",
    "y_pred = blr.predict(X_test)\n",
    "y_score = blr.decision_function(X_test)\n",
    "\n",
    "tn, fp, fn, tp = confusion_matrix(y_test, y_pred).ravel()\n",
    "(tn, fp, fn, tp)\n",
    "\n",
    "# Model Accuracy #\n",
    "from sklearn.metrics import accuracy_score\n",
    "model_accuracy = (tn+tp)/(tn+fp+fn+tp)*100\n",
    "#model_accuracy = accuracy_score(y_test, y_pred)\n",
    "print('Model accuracy: {0:0.2f}%'.format(model_accuracy))\n",
    "\n",
    "# Precision-Recall score #\n",
    "from sklearn.metrics import average_precision_score\n",
    "average_precision = average_precision_score(y_test, y_score)\n",
    "print('Average precision-recall score: {0:0.2f}'.format(average_precision))\n",
    "\n",
    "# Precision_Recall curve #\n",
    "from sklearn.metrics import precision_recall_curve\n",
    "import matplotlib.pyplot as plt\n",
    "from sklearn.utils.fixes import signature\n",
    "precision, recall, _ = precision_recall_curve(y_test, y_score)\n",
    "# In matplotlib < 1.5, plt.fill_between does not have a 'step' argument\n",
    "step_kwargs = ({'step': 'post'}\n",
    "               if 'step' in signature(plt.fill_between).parameters\n",
    "               else {})\n",
    "plt.step(recall, precision, color='b', alpha=0.2,\n",
    "         where='post')\n",
    "plt.fill_between(recall, precision, alpha=0.2, color='b', **step_kwargs)\n",
    "plt.xlabel('Recall')\n",
    "plt.ylabel('Precision')\n",
    "plt.ylim([0.0, 1.05])\n",
    "plt.xlim([0.0, 1.0])\n",
    "plt.title('2-class Precision-Recall curve: AP={0:0.2f}'.format(\n",
    "          average_precision))"
   ]
  },
  {
   "cell_type": "markdown",
   "metadata": {},
   "source": [
    "Logistic Regression through Cross-Validation; Model Evaluation"
   ]
  },
  {
   "cell_type": "code",
   "execution_count": 102,
   "metadata": {},
   "outputs": [
    {
     "name": "stdout",
     "output_type": "stream",
     "text": [
      "Model accuracy: 99.94%\n",
      "Average precision-recall score: 0.77\n"
     ]
    },
    {
     "data": {
      "text/plain": [
       "Text(0.5,1,'2-class Precision-Recall curve: AP=0.77')"
      ]
     },
     "execution_count": 102,
     "metadata": {},
     "output_type": "execute_result"
    },
    {
     "data": {
      "image/png": "[encoded data removed]",
      "text/plain": [
       "<matplotlib.figure.Figure at 0x20314ffbef0>"
      ]
     },
     "metadata": {},
     "output_type": "display_data"
    }
   ],
   "source": [
    "#Logistic Regreession - Optimization through Cross-Validation #\n",
    "from sklearn.linear_model import LogisticRegressionCV\n",
    "LR = LogisticRegressionCV(cv = 10, random_state = 0).fit(X_train,y_train)\n",
    "y_pred = LR.predict(X_test) #array of predicted classes\n",
    "y_score = LR.decision_function(X_test)\n",
    "\n",
    "tn, fp, fn, tp = confusion_matrix(y_test, y_pred).ravel()\n",
    "(tn, fp, fn, tp)\n",
    "\n",
    "# Model Accuracy #\n",
    "from sklearn.metrics import accuracy_score\n",
    "model_accuracy = (tn+tp)/(tn+fp+fn+tp)*100\n",
    "#model_accuracy = accuracy_score(y_test, y_pred)\n",
    "print('Model accuracy: {0:0.2f}%'.format(model_accuracy))\n",
    "\n",
    "# Precision-Recall score #\n",
    "from sklearn.metrics import average_precision_score\n",
    "average_precision = average_precision_score(y_test, y_score)\n",
    "print('Average precision-recall score: {0:0.2f}'.format(average_precision))\n",
    "\n",
    "# Precision_Recall curve #\n",
    "from sklearn.metrics import precision_recall_curve\n",
    "import matplotlib.pyplot as plt\n",
    "from sklearn.utils.fixes import signature\n",
    "precision, recall, _ = precision_recall_curve(y_test, y_score)\n",
    "# In matplotlib < 1.5, plt.fill_between does not have a 'step' argument\n",
    "step_kwargs = ({'step': 'post'}\n",
    "               if 'step' in signature(plt.fill_between).parameters\n",
    "               else {})\n",
    "plt.step(recall, precision, color='b', alpha=0.2,\n",
    "         where='post')\n",
    "plt.fill_between(recall, precision, alpha=0.2, color='b', **step_kwargs)\n",
    "\n",
    "plt.xlabel('Recall')\n",
    "plt.ylabel('Precision')\n",
    "plt.ylim([0.0, 1.05])\n",
    "plt.xlim([0.0, 1.0])\n",
    "plt.title('2-class Precision-Recall curve: AP={0:0.2f}'.format(\n",
    "          average_precision))\n",
    "\n",
    "#Confusion_Matrix\n",
    "\n",
    "#LR.coef_"
   ]
  },
  {
   "cell_type": "markdown",
   "metadata": {},
   "source": [
    "Ensemble with Logistic Regression as the base estimator"
   ]
  },
  {
   "cell_type": "code",
   "execution_count": null,
   "metadata": {},
   "outputs": [],
   "source": [
    "from sklearn.ensemble import BaggingClassifier\n",
    "bagging = BaggingClassifier(LogisticRegression(), n_estimators = 15, \n",
    "                            bootstrap = True, max_samples = 1.0, max_features = 1.0).fit(X_train,y_train)\n",
    "y_pred = bagging.predict(X_test)\n",
    "y_score = bagging.decision_function(X_test)\n",
    "\n",
    "tn, fp, fn, tp = confusion_matrix(y_test, y_pred).ravel()\n",
    "(tn, fp, fn, tp)\n",
    "\n",
    "# Model Accuracy #\n",
    "from sklearn.metrics import accuracy_score\n",
    "model_accuracy = (tn+tp)/(tn+fp+fn+tp)*100\n",
    "#model_accuracy = accuracy_score(y_test, y_pred)\n",
    "print('Model accuracy: {0:0.2f}%'.format(model_accuracy))\n",
    "\n",
    "# Precision-Recall score #\n",
    "from sklearn.metrics import average_precision_score\n",
    "average_precision = average_precision_score(y_test, y_score)\n",
    "print('Average precision-recall score: {0:0.2f}'.format(average_precision))\n",
    "\n",
    "# Precision_Recall curve #\n",
    "from sklearn.metrics import precision_recall_curve\n",
    "import matplotlib.pyplot as plt\n",
    "from sklearn.utils.fixes import signature\n",
    "precision, recall, _ = precision_recall_curve(y_test, y_score)\n",
    "# In matplotlib < 1.5, plt.fill_between does not have a 'step' argument\n",
    "step_kwargs = ({'step': 'post'}\n",
    "               if 'step' in signature(plt.fill_between).parameters\n",
    "               else {})\n",
    "plt.step(recall, precision, color='b', alpha=0.2,\n",
    "         where='post')\n",
    "plt.fill_between(recall, precision, alpha=0.2, color='b', **step_kwargs)\n",
    "\n",
    "plt.xlabel('Recall')\n",
    "plt.ylabel('Precision')\n",
    "plt.ylim([0.0, 1.05])\n",
    "plt.xlim([0.0, 1.0])\n",
    "plt.title('2-class Precision-Recall curve: AP={0:0.2f}'.format(\n",
    "          average_precision))"
   ]
  },
  {
   "cell_type": "markdown",
   "metadata": {},
   "source": [
    "Ensemble with LogisticRegressionCV as base estimator"
   ]
  },
  {
   "cell_type": "code",
   "execution_count": null,
   "metadata": {},
   "outputs": [],
   "source": [
    "from sklearn.ensemble import BaggingClassifier\n",
    "bagging = BaggingClassifier(LogisticRegressionCV(cv = 10, random_state = 0), n_estimators = 15, \n",
    "                            bootstrap = True, max_samples = 1.0, max_features = 1.0).fit(X_train,y_train)\n",
    "y_pred = bagging.predict(X_test)\n",
    "y_score = bagging.decision_function(X_test)\n",
    "\n",
    "tn, fp, fn, tp = confusion_matrix(y_test, y_pred).ravel()\n",
    "(tn, fp, fn, tp)\n",
    "\n",
    "# Model Accuracy #\n",
    "from sklearn.metrics import accuracy_score\n",
    "model_accuracy = (tn+tp)/(tn+fp+fn+tp)*100\n",
    "#model_accuracy = accuracy_score(y_test, y_pred)\n",
    "print('Model accuracy: {0:0.2f}%'.format(model_accuracy))\n",
    "\n",
    "# Precision-Recall score #\n",
    "from sklearn.metrics import average_precision_score\n",
    "average_precision = average_precision_score(y_test, y_score)\n",
    "print('Average precision-recall score: {0:0.2f}'.format(average_precision))\n",
    "\n",
    "# Precision_Recall curve #\n",
    "from sklearn.metrics import precision_recall_curve\n",
    "import matplotlib.pyplot as plt\n",
    "from sklearn.utils.fixes import signature\n",
    "precision, recall, _ = precision_recall_curve(y_test, y_score)\n",
    "# In matplotlib < 1.5, plt.fill_between does not have a 'step' argument\n",
    "step_kwargs = ({'step': 'post'}\n",
    "               if 'step' in signature(plt.fill_between).parameters\n",
    "               else {})\n",
    "plt.step(recall, precision, color='b', alpha=0.2,\n",
    "         where='post')\n",
    "plt.fill_between(recall, precision, alpha=0.2, color='b', **step_kwargs)\n",
    "\n",
    "plt.xlabel('Recall')\n",
    "plt.ylabel('Precision')\n",
    "plt.ylim([0.0, 1.05])\n",
    "plt.xlim([0.0, 1.0])\n",
    "plt.title('2-class Precision-Recall curve: AP={0:0.2f}'.format(\n",
    "          average_precision))"
   ]
  }
 ],
 "metadata": {
  "kernelspec": {
   "display_name": "Python 3",
   "language": "python",
   "name": "python3"
  },
  "language_info": {
   "codemirror_mode": {
    "name": "ipython",
    "version": 3
   },
   "file_extension": ".py",
   "mimetype": "text/x-python",
   "name": "python",
   "nbconvert_exporter": "python",
   "pygments_lexer": "ipython3",
   "version": "3.6.4"
  }
 },
 "nbformat": 4,
 "nbformat_minor": 2
}
